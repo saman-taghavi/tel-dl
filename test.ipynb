{
 "cells": [
  {
   "cell_type": "code",
   "execution_count": 7,
   "metadata": {},
   "outputs": [
    {
     "name": "stdout",
     "output_type": "stream",
     "text": [
      "None\n"
     ]
    }
   ],
   "source": [
    "event = {}\n",
    "test = event.get('test')\n",
    "print(test)"
   ]
  },
  {
   "cell_type": "code",
   "execution_count": 15,
   "metadata": {},
   "outputs": [
    {
     "name": "stdout",
     "output_type": "stream",
     "text": [
      "2021-11-04 16:58:49.761769+03:30\n",
      "time.struct_time(tm_year=2021, tm_mon=11, tm_mday=4, tm_hour=13, tm_min=28, tm_sec=49, tm_wday=3, tm_yday=308, tm_isdst=0)\n"
     ]
    }
   ],
   "source": [
    "import pytz\n",
    "import time\n",
    "from datetime import datetime\n",
    "tz = pytz.timezone('Asia/Tehran')\n",
    "berlin_now = datetime.now(tz)\n",
    "end_time = time.strftime(\"%Y-%m-%d %H:%M:%S\", time.localtime())\n",
    "print(berlin_now)\n",
    "print(time.localtime())"
   ]
  }
 ],
 "metadata": {
  "interpreter": {
   "hash": "89a08ecfbd1172df4fea4eff02526254f6f2300dfa603fb23e8ccf6a560e8c78"
  },
  "kernelspec": {
   "display_name": "Python 3.8.10 64-bit ('.venv': venv)",
   "name": "python3"
  },
  "language_info": {
   "codemirror_mode": {
    "name": "ipython",
    "version": 3
   },
   "file_extension": ".py",
   "mimetype": "text/x-python",
   "name": "python",
   "nbconvert_exporter": "python",
   "pygments_lexer": "ipython3",
   "version": "3.8.10"
  },
  "orig_nbformat": 4
 },
 "nbformat": 4,
 "nbformat_minor": 2
}
